{
 "cells": [
  {
   "cell_type": "markdown",
   "metadata": {},
   "source": [
    "Licun Liu  \n",
    "30901235  \n",
    "07-02-2021"
   ]
  },
  {
   "cell_type": "markdown",
   "metadata": {},
   "source": [
    "# Producing the data (10%)"
   ]
  },
  {
   "cell_type": "code",
   "execution_count": null,
   "metadata": {},
   "outputs": [],
   "source": []
  },
  {
   "cell_type": "code",
   "execution_count": 2,
   "metadata": {},
   "outputs": [
    {
     "name": "stdout",
     "output_type": "stream",
     "text": [
      "Publishing records..\n",
      "Message published successfully. Date: 1\n",
      "Message published successfully. Date: 2\n",
      "Message published successfully. Date: 3\n",
      "Message published successfully. Date: 4\n",
      "Message published successfully. Date: 5\n",
      "Message published successfully. Date: 6\n",
      "Message published successfully. Date: 7\n",
      "Message published successfully. Date: 8\n",
      "Message published successfully. Date: 9\n",
      "Message published successfully. Date: 10\n",
      "Message published successfully. Date: 11\n",
      "Message published successfully. Date: 12\n",
      "Message published successfully. Date: 13\n",
      "Message published successfully. Date: 14\n",
      "Message published successfully. Date: 15\n",
      "Message published successfully. Date: 16\n",
      "Message published successfully. Date: 17\n",
      "Message published successfully. Date: 18\n",
      "Message published successfully. Date: 19\n",
      "Message published successfully. Date: 20\n",
      "Message published successfully. Date: 21\n",
      "Message published successfully. Date: 22\n",
      "Message published successfully. Date: 23\n",
      "Message published successfully. Date: 24\n",
      "Message published successfully. Date: 25\n",
      "Message published successfully. Date: 26\n",
      "Message published successfully. Date: 27\n",
      "Message published successfully. Date: 28\n",
      "Message published successfully. Date: 29\n",
      "Message published successfully. Date: 30\n",
      "Message published successfully. Date: 31\n"
     ]
    }
   ],
   "source": [
    "# import statements\n",
    "from time import sleep\n",
    "from json import dumps\n",
    "from kafka import KafkaProducer\n",
    "import random\n",
    "import datetime as dt\n",
    "import csv\n",
    "import pandas as pd\n",
    "\n",
    "# A function to publish message to customer\n",
    "def publish_message(producer_instance, topic_name, data):\n",
    "    try:\n",
    "        producer_instance.send(topic_name, data)\n",
    "        #print('Message published successfully. Data: ' + str(data))\n",
    "    except Exception as ex:\n",
    "        print('Exception in publishing message.')\n",
    "        print(str(ex))\n",
    "\n",
    "# Connect to kafka\n",
    "def connect_kafka_producer():\n",
    "    _producer = None\n",
    "    try:\n",
    "        _producer = KafkaProducer(bootstrap_servers=['localhost:9092'],\n",
    "                                  value_serializer=lambda x: dumps(x).encode('ascii'),\n",
    "                                  api_version=(0, 10))\n",
    "    except Exception as ex:\n",
    "        print('Exception while connecting Kafka.')\n",
    "        print(str(ex))\n",
    "    finally:\n",
    "        return _producer\n",
    "\n",
    "# Main function\n",
    "if __name__ == '__main__':\n",
    "   \n",
    "    topic_name = 'Assignment'\n",
    "    \n",
    "    print('Publishing records..')\n",
    "    producer = connect_kafka_producer()\n",
    "    \n",
    "    # Using panda to read csv to a dataframe\n",
    "    df = pd.read_csv(\"Streaming_Pedestrian_December_counts_per_hour.csv\")\n",
    "    \n",
    "    # Using a for function to group by day\n",
    "    for group in df.groupby(['Year','Month','Mdate']):\n",
    "        print(\"Message published successfully. Date:\", group[0][2])\n",
    "        for data in group[1].iterrows():\n",
    "            publish_message(producer,topic_name,data[1].to_dict()) # Convert data to a dictionary to publish\n",
    "        \n",
    "        # Sleep every 5 seconds\n",
    "        sleep(5)"
   ]
  },
  {
   "cell_type": "code",
   "execution_count": null,
   "metadata": {},
   "outputs": [],
   "source": []
  }
 ],
 "metadata": {
  "kernelspec": {
   "display_name": "Python 3",
   "language": "python",
   "name": "python3"
  },
  "language_info": {
   "codemirror_mode": {
    "name": "ipython",
    "version": 3
   },
   "file_extension": ".py",
   "mimetype": "text/x-python",
   "name": "python",
   "nbconvert_exporter": "python",
   "pygments_lexer": "ipython3",
   "version": "3.8.2"
  }
 },
 "nbformat": 4,
 "nbformat_minor": 4
}
